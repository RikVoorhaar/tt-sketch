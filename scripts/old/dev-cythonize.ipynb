{
 "cells": [
  {
   "cell_type": "code",
   "execution_count": 3,
   "metadata": {},
   "outputs": [],
   "source": [
    "%load_ext Cython"
   ]
  },
  {
   "cell_type": "code",
   "execution_count": 31,
   "metadata": {},
   "outputs": [],
   "source": [
    "%%cython --compile-args=-fopenmp --link-args=-fopenmp\n",
    "from cython.parallel import prange\n",
    "from libc.math cimport cos\n",
    "\n",
    "cdef int num_its = 100000\n",
    "\n",
    "def my_python_fun(int i):\n",
    "    cdef int j = i**2\n",
    "    cdef double k\n",
    "    with nogil:\n",
    "        k=my_cython_fun(j)\n",
    "    return k\n",
    "\n",
    "cdef double my_cython_fun(int i) nogil:\n",
    "    cdef int j\n",
    "    cdef double k=0\n",
    "    for j in range(1000):\n",
    "        k= cos(cos(<double>j)*k)\n",
    "    return k\n",
    "\n",
    "def parallel_fun():\n",
    "    cdef int i\n",
    "    cdef double k=0\n",
    "    for i in prange(num_its, nogil=True):\n",
    "        with gil:\n",
    "            k += my_python_fun(i)\n",
    "    return k\n",
    "    \n",
    "\n",
    "def serial_fun():\n",
    "    cdef int i\n",
    "    cdef double k=0\n",
    "    for i in range(num_its):\n",
    "        k+=my_python_fun(i)\n",
    "    return k"
   ]
  },
  {
   "cell_type": "code",
   "execution_count": 32,
   "metadata": {},
   "outputs": [
    {
     "name": "stdout",
     "output_type": "stream",
     "text": [
      "CPU times: user 2.4 s, sys: 21.8 ms, total: 2.42 s\n",
      "Wall time: 732 ms\n",
      "CPU times: user 2.9 s, sys: 21.8 ms, total: 2.92 s\n",
      "Wall time: 2.44 s\n"
     ]
    },
    {
     "data": {
      "text/plain": [
       "63712.70718897356"
      ]
     },
     "execution_count": 32,
     "metadata": {},
     "output_type": "execute_result"
    }
   ],
   "source": [
    "%time parallel_fun()\n",
    "%time serial_fun()"
   ]
  },
  {
   "cell_type": "code",
   "execution_count": 20,
   "metadata": {},
   "outputs": [],
   "source": [
    "%%cython \n",
    "#distutils: language = c++\n",
    "\n",
    "from libcpp.vector cimport vector\n",
    "import numpy as np\n",
    "cimport numpy as np\n",
    "\n",
    "cdef vector[np.float64_t*] array_list_to_pointers(list array_list):\n",
    "    cdef vector[np.float64_t*] v\n",
    "    cdef np.float64_t[:] A_view\n",
    "    for A in array_list:\n",
    "        A_view = A\n",
    "        v.push_back(&A_view[0])\n",
    "    return v\n",
    "\n",
    "def make_pointers(array_list):\n",
    "    cdef vector[np.float64_t*] v = array_list_to_pointers(array_list)"
   ]
  },
  {
   "cell_type": "code",
   "execution_count": 61,
   "metadata": {},
   "outputs": [
    {
     "name": "stderr",
     "output_type": "stream",
     "text": [
      "\n",
      "Error compiling Cython file:\n",
      "------------------------------------------------------------\n",
      "...\n",
      "    cdef double[:,:] A = np.ones((1000,1000))\n",
      "    cdef double[:,:] B = np.ones((1000,1000))\n",
      "    cdef double[:,:] C\n",
      "    # C = np.einsum(\"ij,jk->ik\",A,B)\n",
      "    with nogil:\n",
      "        C = np.dot(A,B)\n",
      "                 ^\n",
      "------------------------------------------------------------\n",
      "\n",
      "/home/rik/.cache/ipython/cython/_cython_magic_d0bd7a5720d8a7bc21e369c161cebf46.pyx:11:18: Calling gil-requiring function not allowed without gil\n",
      "\n",
      "Error compiling Cython file:\n",
      "------------------------------------------------------------\n",
      "...\n",
      "    cdef double[:,:] A = np.ones((1000,1000))\n",
      "    cdef double[:,:] B = np.ones((1000,1000))\n",
      "    cdef double[:,:] C\n",
      "    # C = np.einsum(\"ij,jk->ik\",A,B)\n",
      "    with nogil:\n",
      "        C = np.dot(A,B)\n",
      "             ^\n",
      "------------------------------------------------------------\n",
      "\n",
      "/home/rik/.cache/ipython/cython/_cython_magic_d0bd7a5720d8a7bc21e369c161cebf46.pyx:11:14: Accessing Python attribute not allowed without gil\n",
      "\n",
      "Error compiling Cython file:\n",
      "------------------------------------------------------------\n",
      "...\n",
      "    cdef double[:,:] A = np.ones((1000,1000))\n",
      "    cdef double[:,:] B = np.ones((1000,1000))\n",
      "    cdef double[:,:] C\n",
      "    # C = np.einsum(\"ij,jk->ik\",A,B)\n",
      "    with nogil:\n",
      "        C = np.dot(A,B)\n",
      "           ^\n",
      "------------------------------------------------------------\n",
      "\n",
      "/home/rik/.cache/ipython/cython/_cython_magic_d0bd7a5720d8a7bc21e369c161cebf46.pyx:11:12: Accessing Python global or builtin not allowed without gil\n",
      "\n",
      "Error compiling Cython file:\n",
      "------------------------------------------------------------\n",
      "...\n",
      "    cdef double[:,:] A = np.ones((1000,1000))\n",
      "    cdef double[:,:] B = np.ones((1000,1000))\n",
      "    cdef double[:,:] C\n",
      "    # C = np.einsum(\"ij,jk->ik\",A,B)\n",
      "    with nogil:\n",
      "        C = np.dot(A,B)\n",
      "                 ^\n",
      "------------------------------------------------------------\n",
      "\n",
      "/home/rik/.cache/ipython/cython/_cython_magic_d0bd7a5720d8a7bc21e369c161cebf46.pyx:11:18: Constructing Python tuple not allowed without gil\n",
      "\n",
      "Error compiling Cython file:\n",
      "------------------------------------------------------------\n",
      "...\n",
      "    cdef double[:,:] A = np.ones((1000,1000))\n",
      "    cdef double[:,:] B = np.ones((1000,1000))\n",
      "    cdef double[:,:] C\n",
      "    # C = np.einsum(\"ij,jk->ik\",A,B)\n",
      "    with nogil:\n",
      "        C = np.dot(A,B)\n",
      "                  ^\n",
      "------------------------------------------------------------\n",
      "\n",
      "/home/rik/.cache/ipython/cython/_cython_magic_d0bd7a5720d8a7bc21e369c161cebf46.pyx:11:19: Converting to Python object not allowed without gil\n",
      "\n",
      "Error compiling Cython file:\n",
      "------------------------------------------------------------\n",
      "...\n",
      "    cdef double[:,:] A = np.ones((1000,1000))\n",
      "    cdef double[:,:] B = np.ones((1000,1000))\n",
      "    cdef double[:,:] C\n",
      "    # C = np.einsum(\"ij,jk->ik\",A,B)\n",
      "    with nogil:\n",
      "        C = np.dot(A,B)\n",
      "                    ^\n",
      "------------------------------------------------------------\n",
      "\n",
      "/home/rik/.cache/ipython/cython/_cython_magic_d0bd7a5720d8a7bc21e369c161cebf46.pyx:11:21: Converting to Python object not allowed without gil\n"
     ]
    }
   ],
   "source": [
    "%%cython\n",
    "import numpy as np\n",
    "from cython.parallel import prange\n",
    "\n",
    "\n",
    "cdef do_mult():\n",
    "    cdef double[:,:] A = np.ones((1000,1000))\n",
    "    cdef double[:,:] B = np.ones((1000,1000))\n",
    "    cdef double[:,:] C\n",
    "    # C = np.einsum(\"ij,jk->ik\",A,B)\n",
    "    with nogil:\n",
    "        C = np.dot(A,B)\n",
    "\n",
    "def do_m_parallel(int num_tries):\n",
    "    cdef int i\n",
    "    for i in prange(num_tries,nogil=True):\n",
    "        with gil:\n",
    "            do_mult()\n",
    "\n",
    "\n",
    "def do_m_serial(int num_tries):\n",
    "    cdef int i\n",
    "    for i in range(num_tries):\n",
    "        do_mult()\n",
    "\n"
   ]
  },
  {
   "cell_type": "code",
   "execution_count": 60,
   "metadata": {},
   "outputs": [
    {
     "name": "stdout",
     "output_type": "stream",
     "text": [
      "CPU times: user 51.5 s, sys: 383 ms, total: 51.9 s\n",
      "Wall time: 52.9 s\n",
      "CPU times: user 52.8 s, sys: 373 ms, total: 53.1 s\n",
      "Wall time: 53.6 s\n"
     ]
    }
   ],
   "source": [
    "%time do_m_serial(100)\n",
    "%time do_m_parallel(100)"
   ]
  },
  {
   "cell_type": "code",
   "execution_count": 21,
   "metadata": {},
   "outputs": [],
   "source": [
    "import numpy as np\n",
    "array_list = [np.zeros(10) for _ in range(5)]\n",
    "make_pointers(array_list)"
   ]
  },
  {
   "cell_type": "code",
   "execution_count": null,
   "metadata": {},
   "outputs": [],
   "source": []
  }
 ],
 "metadata": {
  "interpreter": {
   "hash": "53e3584a94e8c7d99898d4a2cb47bea56236d638682d6d87741bc73b63e7db14"
  },
  "kernelspec": {
   "display_name": "Python 3.8.10 ('tensors')",
   "language": "python",
   "name": "python3"
  },
  "language_info": {
   "codemirror_mode": {
    "name": "ipython",
    "version": 3
   },
   "file_extension": ".py",
   "mimetype": "text/x-python",
   "name": "python",
   "nbconvert_exporter": "python",
   "pygments_lexer": "ipython3",
   "version": "3.8.10"
  },
  "orig_nbformat": 4
 },
 "nbformat": 4,
 "nbformat_minor": 2
}
